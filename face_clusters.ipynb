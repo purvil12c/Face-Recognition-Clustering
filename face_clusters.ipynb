{
 "cells": [
  {
   "cell_type": "code",
   "execution_count": 38,
   "metadata": {
    "collapsed": false
   },
   "outputs": [],
   "source": [
    "import os\n",
    "import face_recognition\n",
    "from PIL import Image, ImageDraw\n",
    "from shutil import copyfile"
   ]
  },
  {
   "cell_type": "code",
   "execution_count": 39,
   "metadata": {
    "collapsed": false
   },
   "outputs": [],
   "source": [
    "#keep all the pictures in one folder names all_images\n",
    "#resultant folders will be stored in results folder. Ex - /results/1, /results/2\n",
    "#set threshold on experimentation\n",
    "threshold = 0.5"
   ]
  },
  {
   "cell_type": "code",
   "execution_count": 40,
   "metadata": {
    "collapsed": true
   },
   "outputs": [],
   "source": [
    "file_encodings = []\n",
    "file_names = []\n",
    "for file in os.listdir('./all_images'):\n",
    "    if(file.endswith('.jpg')):\n",
    "        file_names.append(file)\n",
    "        temp_image = face_recognition.load_image_file('./all_images/'+file)\n",
    "        image_encoding = face_recognition.face_encodings(temp_image)[0]\n",
    "        file_encodings.append(image_encoding)"
   ]
  },
  {
   "cell_type": "code",
   "execution_count": 41,
   "metadata": {
    "collapsed": false
   },
   "outputs": [],
   "source": [
    "compare_mat = []\n",
    "for encoding1 in file_encodings:\n",
    "    comparisions = face_recognition.face_distance(file_encodings, encoding1)\n",
    "    compare_mat.append(comparisions)"
   ]
  },
  {
   "cell_type": "code",
   "execution_count": 42,
   "metadata": {
    "collapsed": false
   },
   "outputs": [],
   "source": [
    "clustered_list = []\n",
    "for file_name in file_names: \n",
    "    clustered_list.append(file_name)"
   ]
  },
  {
   "cell_type": "code",
   "execution_count": 43,
   "metadata": {
    "collapsed": true
   },
   "outputs": [],
   "source": [
    "clusters = []\n",
    "i = 0\n",
    "while i!=len(clustered_list):\n",
    "    temp=[]\n",
    "    j=0\n",
    "    while j!=len(compare_mat[i]):\n",
    "        com = compare_mat[i][j]\n",
    "        if com!=0 :\n",
    "            if com<threshold:\n",
    "                temp.append(clustered_list[j])        \n",
    "        j+=1\n",
    "    clusters.append(temp)\n",
    "    i+=1\n",
    "    "
   ]
  },
  {
   "cell_type": "code",
   "execution_count": 44,
   "metadata": {
    "collapsed": false
   },
   "outputs": [],
   "source": [
    "l = clusters\n",
    "len_l = len(l)\n",
    "i = 0\n",
    "while i < (len_l - 1):\n",
    "    for j in range(i + 1, len_l):\n",
    "\n",
    "        i_set = set(l[i])\n",
    "        j_set = set(l[j])\n",
    "\n",
    "        if len(i_set.intersection(j_set)) > 0:\n",
    "            l.pop(j)\n",
    "            l.pop(i)\n",
    "            ij_union = list(i_set.union(j_set))\n",
    "            l.append(ij_union)\n",
    "            len_l -= 1\n",
    "            i -= 1\n",
    "            break\n",
    "    i += 1\n",
    "clusters = l"
   ]
  },
  {
   "cell_type": "code",
   "execution_count": 45,
   "metadata": {
    "collapsed": false
   },
   "outputs": [
    {
     "name": "stdout",
     "output_type": "stream",
     "text": [
      "[['5g0FC8XX_400x400.jpg', 'Official_portrait_of_Barack_Obama.jpg', 'barack-obama.jpg'], ['3.jpg', '4.jpg', '1.jpg'], ['b3.jpg', 'b1.jpg', 'b2.jpg'], ['2.jpg', '8.jpg', '6.jpg', '7.jpg', '5.jpg', '9.jpg']]\n"
     ]
    }
   ],
   "source": [
    "print clusters"
   ]
  },
  {
   "cell_type": "code",
   "execution_count": 46,
   "metadata": {
    "collapsed": true
   },
   "outputs": [],
   "source": [
    "def createResultantFolders(clusters):\n",
    "    index=1\n",
    "    for cluster in clusters:\n",
    "        directory=os.getcwd()+\"/resultant/\"+str(index)\n",
    "        if not os.path.exists(directory):\n",
    "            os.makedirs(directory)\n",
    "        for file in cluster:\n",
    "            copyfile(os.getcwd()+\"/all_images/\"+file, directory+'/'+file)\n",
    "        index+=1"
   ]
  },
  {
   "cell_type": "code",
   "execution_count": 47,
   "metadata": {
    "collapsed": false
   },
   "outputs": [],
   "source": [
    "createResultantFolders(clusters)"
   ]
  },
  {
   "cell_type": "code",
   "execution_count": null,
   "metadata": {
    "collapsed": true
   },
   "outputs": [],
   "source": []
  },
  {
   "cell_type": "code",
   "execution_count": null,
   "metadata": {
    "collapsed": true
   },
   "outputs": [],
   "source": []
  },
  {
   "cell_type": "code",
   "execution_count": null,
   "metadata": {
    "collapsed": true
   },
   "outputs": [],
   "source": []
  },
  {
   "cell_type": "code",
   "execution_count": null,
   "metadata": {
    "collapsed": true
   },
   "outputs": [],
   "source": []
  }
 ],
 "metadata": {
  "anaconda-cloud": {},
  "kernelspec": {
   "display_name": "Python [default]",
   "language": "python",
   "name": "python2"
  },
  "language_info": {
   "codemirror_mode": {
    "name": "ipython",
    "version": 2
   },
   "file_extension": ".py",
   "mimetype": "text/x-python",
   "name": "python",
   "nbconvert_exporter": "python",
   "pygments_lexer": "ipython2",
   "version": "2.7.12"
  }
 },
 "nbformat": 4,
 "nbformat_minor": 1
}
